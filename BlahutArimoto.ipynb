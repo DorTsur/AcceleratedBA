{
  "nbformat": 4,
  "nbformat_minor": 0,
  "metadata": {
    "colab": {
      "name": "BlahutArimoto.ipynb",
      "provenance": [],
      "collapsed_sections": []
    },
    "kernelspec": {
      "name": "python3",
      "display_name": "Python 3"
    },
    "language_info": {
      "name": "python"
    }
  },
  "cells": [
    {
      "cell_type": "markdown",
      "source": [
        "Implementation of an accelerated version of the Blahut Arimoto algorithm (BAA).\n",
        "The goal of this algorithm is to maximize mutual information over discrete input distributions.\n",
        "Mutual information is given by\n",
        "\n",
        "$$I(X;Y) = \\mathsf{D}_{\\mathsf{KL}}(P_{XY}\\|P_X\\otimes P_Y):=\\sum_{(x,y)\\in\\mathcal{X}\\times \\mathcal{Y}}p(x,y)\\log \\frac{p(x,y)}{p(x)p(y)}$$\n",
        "\n",
        "We assume that $|\\mathcal{Y}|<\\infty$ and the channel is therefore given by a transition matrix that represents $p(y|x)$.\n",
        "\n",
        "All versions of the BAA consist of iteratively alternating between two steps. Denote by $p_r$ the input PMF on the $r$th iteration. An iteration consists of:\n",
        "\n",
        "\n",
        "1.   Calculation some measure that describes the model according to $p^r$.\n",
        "2.   Calculation of $p^{r+1}$ according to $p^r$ and the calculated measure. \n",
        "\n",
        "\n",
        "This notebook provides an accelerated implementation of BAA that relies of the calculation of the the KL divergence terms induced by the model.\n",
        "We define the following term:\n",
        "$$\n",
        "D(x) := \\mathsf{D}_{\\mathsf{KL}}(P_{Y|X=x}\\|P_Y)\n",
        "$$\n",
        "To this end, the above steps boil down to:\n",
        "\n",
        "\n",
        "1.   Calculate $(D(x))_{x\\in\\mathcal{X}}$\n",
        "2.   Update PMF according to the rule: \n",
        "$p^{r+1}(x) = \\frac{e^{D(x)}p^r(x)}{\\sum_{x'\\in\\mathcal{X}}e^{D(x')}p^r(x')}$\n",
        "\n"
      ],
      "metadata": {
        "id": "l29WaYSuxviU"
      }
    },
    {
      "cell_type": "markdown",
      "source": [
        "Start with importing relevant packages:"
      ],
      "metadata": {
        "id": "rC6cITtaqb9T"
      }
    },
    {
      "cell_type": "code",
      "execution_count": 184,
      "metadata": {
        "id": "OrJBu_EJjkze"
      },
      "outputs": [],
      "source": [
        "import numpy as np\n",
        "from scipy.special import softmax\n",
        "import matplotlib.pyplot as plt"
      ]
    },
    {
      "cell_type": "markdown",
      "source": [
        "Define channel matrix generators:"
      ],
      "metadata": {
        "id": "FKBzrwn-qfNW"
      }
    },
    {
      "cell_type": "code",
      "source": [
        "def clean_channel():\n",
        "  # clean channel\n",
        "  p0 = [0,1]\n",
        "  p1 = [1,0]\n",
        "  p_ygx = np.asarray([p0,p1])\n",
        "  return p_ygx\n",
        "\n",
        "def bsc(p):\n",
        "  # clean channel\n",
        "  p0 = [1-p,p]\n",
        "  p1 = [p,1-p]\n",
        "  p_ygx = np.asarray([p0,p1])\n",
        "  return p_ygx\n",
        "\n",
        "def bec(delta):\n",
        "  p0 = [1-delta, 0, delta]\n",
        "  p1 = [0, 1-delta, delta]\n",
        "  p_ygx = np.asarray([p0,p1])\n",
        "  return p_ygx"
      ],
      "metadata": {
        "id": "l7CCqJyhjvQZ"
      },
      "execution_count": 185,
      "outputs": []
    },
    {
      "cell_type": "markdown",
      "source": [
        "Define the BA algorithm as a python class"
      ],
      "metadata": {
        "id": "lZsBM6Rsqi3E"
      }
    },
    {
      "cell_type": "code",
      "source": [
        "class BA(object):\n",
        "  def __init__(self,alphabet_size, channel_name, p=0.5):\n",
        "    self.m = alphabet_size\n",
        "    self.gen_channel_mat(channel_name, p)\n",
        "    self.pmf = np.squeeze(softmax(np.random.uniform(size=[alphabet_size,1], low=0, high=10)))\n",
        "    self.pmf_history = [self.pmf]\n",
        "    self.TV_err_history = []\n",
        "    self.KLD_err_history = []\n",
        "    self.MI_history = []\n",
        "    self.total_iter = 20\n",
        "\n",
        "  def train(self,tolerance=1e-20):\n",
        "    for i in range(self.total_iter):\n",
        "      # train the algorithm\n",
        "      Dx = self.information_step()\n",
        "      self.pmf_step(Dx)\n",
        "      print('Iteration {}, TV error = {}, MI = {}[bits]'.format(i, self.TV_err_history[-1], self.MI/np.log(2)))\n",
        "      # if self.TV_err_history[-1]<tolerance:\n",
        "      #   break\n",
        "\n",
        "  def gen_channel_mat(self,channel_name, p=0.5):\n",
        "    if channel_name == 'clean':\n",
        "      self.channel_mat = clean_channel()\n",
        "    elif channel_name == 'bsc':\n",
        "      self.channel_mat = bsc(p)\n",
        "    elif channel_name == 'bec':\n",
        "      self.channel_mat = bec(p)\n",
        "    else:\n",
        "      raise ValueError(\"'{}' is an invalid channel name\")\n",
        "\n",
        "  def present_results(self):\n",
        "    # show the eperiment resutls in considered metrics\n",
        "\n",
        "    plt.figure()\n",
        "    plt.plot(range(self.total_iter), self.TV_err_history)\n",
        "    plt.title('Total variation error of PMF between consecutive iterations')\n",
        "    plt.xlabel('Iteration')\n",
        "    plt.ylabel('TV error')\n",
        "\n",
        "    plt.figure()\n",
        "    plt.plot(range(self.total_iter), self.KLD_err_history/np.log(2))\n",
        "    plt.title('KL divergence of PMF between consecutive iterations')\n",
        "    plt.xlabel('Iteration')\n",
        "    plt.ylabel('KL divergence[bits]')\n",
        "\n",
        "    plt.figure()\n",
        "    plt.plot(range(self.total_iter), self.MI_history/np.log(2))\n",
        "    plt.title('Mutual information vs. iteration')\n",
        "    plt.xlabel('Iteration')\n",
        "    plt.ylabel('Mutual information[bits]')\n",
        "\n",
        "\n",
        "    \n",
        "\n",
        "  def information_step(self):\n",
        "    self.py = np.matmul(self.pmf, self.channel_mat)\n",
        "    Dx = []\n",
        "    for i in range(self.m):\n",
        "      Dx.append(np.matmul(self.channel_mat[i], np.log(self.channel_mat[i]/self.py+1e-15)))\n",
        "    return Dx\n",
        "\n",
        "  def pmf_step(self,Dx):\n",
        "    mult = self.pmf * np.exp(Dx)\n",
        "    px_ = mult/np.sum(mult)\n",
        "    self.pmf_history.append(px_)\n",
        "    self.TV_err_history.append(self.calcualte_TV([self.pmf, px_]))\n",
        "    self.KLD_err_history.append(self.calculate_KLD(self.pmf, px_))\n",
        "    self.MI = np.matmul(self.pmf,Dx)\n",
        "    self.MI_history.append(self.MI)\n",
        "    self.pmf = px_\n",
        "\n",
        "  def calcualte_TV(self,p):\n",
        "    return np.sum(np.abs(p[0]-p[1]))\n",
        "  \n",
        "  def calculate_KLD(self,p1,p2):\n",
        "    llr = np.log((p1+1e-15)/(p2+1e-15))\n",
        "    return np.matmul(p1,llr)"
      ],
      "metadata": {
        "id": "mDlhsmjQxlHZ"
      },
      "execution_count": 186,
      "outputs": []
    },
    {
      "cell_type": "markdown",
      "source": [
        "Define parameters and initialize an instance of the BAA"
      ],
      "metadata": {
        "id": "bEGuu1okqsTp"
      }
    },
    {
      "cell_type": "code",
      "source": [
        "m = 2\n",
        "channel_name = 'bec'\n",
        "p = 0.1  \n",
        "tolerance = 0\n",
        "\n",
        "trainer = BA(alphabet_size=m, channel_name=channel_name, p=p)"
      ],
      "metadata": {
        "id": "37rH7Q3QFO6d"
      },
      "execution_count": 187,
      "outputs": []
    },
    {
      "cell_type": "markdown",
      "source": [
        "Rune the algorithm with given tolerance"
      ],
      "metadata": {
        "id": "aY-jFpCAqyxU"
      }
    },
    {
      "cell_type": "code",
      "source": [
        "trainer.train(0)"
      ],
      "metadata": {
        "colab": {
          "base_uri": "https://localhost:8080/"
        },
        "id": "Clb9LzUEFxc7",
        "outputId": "42f2cd97-cf89-45b4-c86d-7e9ea991c966"
      },
      "execution_count": 188,
      "outputs": [
        {
          "output_type": "stream",
          "name": "stdout",
          "text": [
            "Iteration 0, TV error = 0.33424821274366007, MI = 0.8072140676060493[bits]\n",
            "Iteration 1, TV error = 0.035300697453398755, MI = 0.8990008537154662[bits]\n",
            "Iteration 2, TV error = 0.0035320612144348895, MI = 0.8999900009190879[bits]\n",
            "Iteration 3, TV error = 0.0003532081141405796, MI = 0.8999999000084293[bits]\n",
            "Iteration 4, TV error = 3.532081340684723e-05, MI = 0.899999999000085[bits]\n",
            "Iteration 5, TV error = 3.5320813426831243e-06, MI = 0.8999999999900019[bits]\n",
            "Iteration 6, TV error = 3.532081341850457e-07, MI = 0.899999999999901[bits]\n",
            "Iteration 7, TV error = 3.532081349622018e-08, MI = 0.9[bits]\n",
            "Iteration 8, TV error = 3.5320811275774133e-09, MI = 0.9000000000000008[bits]\n",
            "Iteration 9, TV error = 3.532082959445404e-10, MI = 0.9000000000000008[bits]\n",
            "Iteration 10, TV error = 3.5320857350029655e-11, MI = 0.9000000000000009[bits]\n",
            "Iteration 11, TV error = 3.5320080193912418e-12, MI = 0.9000000000000008[bits]\n",
            "Iteration 12, TV error = 3.532729664357248e-13, MI = 0.9000000000000008[bits]\n",
            "Iteration 13, TV error = 3.5360603334311236e-14, MI = 0.9000000000000008[bits]\n",
            "Iteration 14, TV error = 3.497202527569243e-15, MI = 0.9000000000000008[bits]\n",
            "Iteration 15, TV error = 2.7755575615628914e-16, MI = 0.9000000000000008[bits]\n",
            "Iteration 16, TV error = 1.6653345369377348e-16, MI = 0.9000000000000008[bits]\n",
            "Iteration 17, TV error = 0.0, MI = 0.9000000000000008[bits]\n",
            "Iteration 18, TV error = 0.0, MI = 0.9000000000000008[bits]\n",
            "Iteration 19, TV error = 0.0, MI = 0.9000000000000008[bits]\n"
          ]
        }
      ]
    },
    {
      "cell_type": "markdown",
      "source": [
        "Present collected metrics"
      ],
      "metadata": {
        "id": "2LCs2kX_q4rX"
      }
    },
    {
      "cell_type": "code",
      "source": [
        "trainer.present_results()"
      ],
      "metadata": {
        "colab": {
          "base_uri": "https://localhost:8080/",
          "height": 851
        },
        "id": "HHeYo6TiSDsa",
        "outputId": "38f8ee95-af85-4225-fa93-f1d361e628f4"
      },
      "execution_count": 189,
      "outputs": [
        {
          "output_type": "display_data",
          "data": {
            "text/plain": [
              "<Figure size 432x288 with 1 Axes>"
            ],
            "image/png": "[encoded data removed]"
          },
          "metadata": {
            "needs_background": "light"
          }
        },
        {
          "output_type": "display_data",
          "data": {
            "text/plain": [
              "<Figure size 432x288 with 1 Axes>"
            ],
            "image/png": "[encoded data removed]"
          },
          "metadata": {
            "needs_background": "light"
          }
        },
        {
          "output_type": "display_data",
          "data": {
            "text/plain": [
              "<Figure size 432x288 with 1 Axes>"
            ],
            "image/png": "[encoded data removed]"
          },
          "metadata": {
            "needs_background": "light"
          }
        }
      ]
    }
  ]
}